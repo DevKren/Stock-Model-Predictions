{
  "nbformat": 4,
  "nbformat_minor": 0,
  "metadata": {
    "colab": {
      "provenance": []
    },
    "kernelspec": {
      "name": "python3",
      "display_name": "Python 3"
    },
    "language_info": {
      "name": "python"
    }
  },
  "cells": [
    {
      "cell_type": "code",
      "source": [
        "from google.colab import drive\n",
        "import pandas as pd\n",
        "import yfinance as yf\n",
        "\n",
        "\n",
        "drive.mount('/content/drive')\n",
        "\n",
        "# Downloading NOC and GD stock data\n",
        "noc_data = yf.download(\"NOC\", start=\"2022-01-01\", end=\"2024-01-23\")\n",
        "gd_data = yf.download(\"GD\", start=\"2022-01-01\", end=\"2024-01-23\")\n",
        "\n",
        "# Process NOC data\n",
        "noc_data.drop(columns=[\"Adj Close\"], inplace=True)\n",
        "noc_data.reset_index(inplace=True)\n",
        "\n",
        "\n",
        "# Process GD data\n",
        "gd_data.drop(columns=[\"Adj Close\"], inplace=True)\n",
        "gd_data.reset_index(inplace=True)\n",
        "\n",
        "columns_to_convert = [\"Open\",\"High\",\"Low\",\"Close\",\"Volume\"]\n",
        "\n",
        "\n",
        "for column in columns_to_convert:\n",
        "  noc_data[column] =  noc_data[column].astype(float)\n",
        "\n",
        "for column in columns_to_convert:\n",
        "  gd_data[column] = gd_data[column].astype(float)\n",
        "\n",
        "# Saving to Google Drive as separate CSV files\n",
        "noc_file_path = \"/content/drive/MyDrive/noc_stock_data.csv\"\n",
        "gd_file_path = \"/content/drive/MyDrive/gd_stock_data.csv\"\n",
        "\n",
        "noc_data.to_csv(noc_file_path, index=False)\n",
        "gd_data.to_csv(gd_file_path, index=False)\n",
        "\n",
        "\n",
        "\n",
        "\n",
        "\n",
        "\n",
        "\n"
      ],
      "metadata": {
        "id": "UmyhsK3FM0cH",
        "colab": {
          "base_uri": "https://localhost:8080/"
        },
        "outputId": "b73f5c9d-77b7-4e27-d7f4-39ad8d00543d"
      },
      "execution_count": 2,
      "outputs": [
        {
          "output_type": "stream",
          "name": "stderr",
          "text": [
            "/usr/local/lib/python3.10/dist-packages/yfinance/base.py:48: FutureWarning: The default dtype for empty Series will be 'object' instead of 'float64' in a future version. Specify a dtype explicitly to silence this warning.\n",
            "  _empty_series = pd.Series()\n"
          ]
        },
        {
          "output_type": "stream",
          "name": "stdout",
          "text": [
            "Mounted at /content/drive\n"
          ]
        },
        {
          "output_type": "stream",
          "name": "stderr",
          "text": [
            "[*********************100%%**********************]  1 of 1 completed\n",
            "[*********************100%%**********************]  1 of 1 completed\n"
          ]
        }
      ]
    },
    {
      "cell_type": "code",
      "source": [
        "h5n = \"Head For NOC\"\n",
        "print(h5n,noc_data.head())\n",
        "t5n = \"Tail For Noc\"\n",
        "print(t5n,noc_data.tail())\n",
        "\n",
        "h5gd = \"Head for GD\"\n",
        "print(h5gd,gd_data.head())\n",
        "\n",
        "t5gd = \"Tail for GD\"\n",
        "print(t5gd,gd_data.tail())\n"
      ],
      "metadata": {
        "id": "o1sHtrySU4E2",
        "colab": {
          "base_uri": "https://localhost:8080/"
        },
        "outputId": "9a800910-2ce7-4e7d-c002-8d7dd503be68"
      },
      "execution_count": 3,
      "outputs": [
        {
          "output_type": "stream",
          "name": "stdout",
          "text": [
            "Head For NOC         Date        Open        High         Low       Close     Volume\n",
            "0 2022-01-03  386.950012  388.070007  382.739990  385.529999   662100.0\n",
            "1 2022-01-04  387.540009  397.850006  387.540009  396.989990   740500.0\n",
            "2 2022-01-05  391.040009  399.570007  390.179993  394.989990  1072500.0\n",
            "3 2022-01-06  397.559998  399.829987  394.399994  397.269989   764300.0\n",
            "4 2022-01-07  398.320007  401.149994  396.079987  400.420013   908600.0\n",
            "Tail For Noc           Date        Open        High         Low       Close     Volume\n",
            "510 2024-01-16  481.500000  482.170013  476.029999  477.899994   734600.0\n",
            "511 2024-01-17  477.339996  482.899994  473.579987  473.880005   612100.0\n",
            "512 2024-01-18  475.140015  476.220001  468.519989  474.630005   875800.0\n",
            "513 2024-01-19  475.369995  475.369995  469.359985  470.480011  1369200.0\n",
            "514 2024-01-22  469.420013  470.769989  466.290009  466.619995   871200.0\n",
            "Head for GD         Date        Open        High         Low       Close     Volume\n",
            "0 2022-01-03  209.000000  209.550003  206.139999  207.460007   721500.0\n",
            "1 2022-01-04  209.070007  212.460007  208.210007  212.050003  1129400.0\n",
            "2 2022-01-05  212.770004  214.429993  210.029999  210.309998   876500.0\n",
            "3 2022-01-06  212.529999  214.039993  210.130005  211.740005   864100.0\n",
            "4 2022-01-07  212.570007  213.869995  211.669998  212.089996  1408500.0\n",
            "Tail for GD           Date        Open        High         Low       Close     Volume\n",
            "510 2024-01-16  254.289993  254.699997  249.720001  250.649994  1038300.0\n",
            "511 2024-01-17  249.229996  252.100006  249.000000  249.970001   882700.0\n",
            "512 2024-01-18  249.039993  251.100006  247.360001  250.949997   907700.0\n",
            "513 2024-01-19  251.500000  251.500000  248.979996  249.339996  1410200.0\n",
            "514 2024-01-22  249.500000  251.320007  248.699997  249.759995  2043300.0\n"
          ]
        }
      ]
    },
    {
      "cell_type": "code",
      "source": [
        "# For NOC data\n",
        "print(\"NOC Data Description:\")\n",
        "print(noc_data.describe())\n",
        "\n",
        "# For GD data\n",
        "print(\"GD Data Description:\")\n",
        "print(gd_data.describe())\n",
        "\n"
      ],
      "metadata": {
        "colab": {
          "base_uri": "https://localhost:8080/"
        },
        "id": "_Q4lbHBGPy41",
        "outputId": "3e54af8f-3506-4ef9-8b3e-b606e7420fa9"
      },
      "execution_count": 4,
      "outputs": [
        {
          "output_type": "stream",
          "name": "stdout",
          "text": [
            "NOC Data Description:\n",
            "             Open        High         Low       Close        Volume\n",
            "count  515.000000  515.000000  515.000000  515.000000  5.150000e+02\n",
            "mean   462.262155  467.366854  457.288622  462.415806  8.596186e+05\n",
            "std     33.999980   34.401767   33.378836   33.828209  4.042219e+05\n",
            "min    367.399994  371.920013  364.619995  369.750000  1.912000e+05\n",
            "25%    445.044998  449.819992  440.175003  443.974991  5.865500e+05\n",
            "50%    461.440002  465.850006  457.140015  462.470001  7.599000e+05\n",
            "75%    477.884995  482.259995  472.479996  477.925003  9.863500e+05\n",
            "max    549.619995  556.270020  543.969971  549.010010  3.119200e+06\n",
            "GD Data Description:\n",
            "             Open        High         Low       Close        Volume\n",
            "count  515.000000  515.000000  515.000000  515.000000  5.150000e+02\n",
            "mean   229.897554  231.948214  227.860621  229.924757  1.205341e+06\n",
            "std     13.708814   13.722114   13.710544   13.656165  5.119864e+05\n",
            "min    204.080002  205.850006  200.649994  204.179993  3.390000e+05\n",
            "25%    218.159996  220.464996  216.254997  218.259995  8.649000e+05\n",
            "50%    228.589996  230.429993  226.369995  228.110001  1.079900e+06\n",
            "75%    242.000000  244.095001  239.854996  242.229996  1.408850e+06\n",
            "max    259.670013  261.390015  257.850006  259.670013  4.791800e+06\n"
          ]
        }
      ]
    }
  ]
}